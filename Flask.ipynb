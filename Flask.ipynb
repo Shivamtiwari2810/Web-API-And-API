{
 "cells": [
  {
   "cell_type": "markdown",
   "id": "c9f2f715-d604-45d4-87ae-26b9b463927e",
   "metadata": {},
   "source": [
    "Answer (1)"
   ]
  },
  {
   "cell_type": "markdown",
   "id": "4846ec80-4184-4497-a63f-eb56b86212e1",
   "metadata": {},
   "source": [
    "Flask is a popular web framework for building web applications using the Python programming language. It is a lightweight and flexible framework that follows the Model-View-Controller (MVC) architectural pattern.\n",
    "\n",
    "Advantages of using Flask Framework include:\n",
    "\n",
    "Lightweight: Flask is a lightweight framework, which means that it has minimal dependencies and is easy to set up and use.\n",
    "\n",
    "Flexibility: Flask is a highly flexible framework, which means that it can be easily customized and extended to meet the specific needs of your project.\n",
    "\n",
    "Simple to use: Flask has a simple and intuitive API that makes it easy for developers to learn and use, even if they are new to web development.\n",
    "\n",
    "Integrated testing support: Flask includes built-in support for unit testing, which makes it easy to write and run tests for your application.\n",
    "\n",
    "Large community: Flask has a large and active community of developers, which means that there are many resources available for learning and troubleshooting issues.\n",
    "\n",
    "Easy to deploy: Flask is easy to deploy to a variety of hosting platforms, including cloud-based platforms like Heroku and AWS.\n",
    "\n",
    "Modular design: Flask has a modular design, which means that it can be used to build both small and large applications by integrating with other libraries and tools.\n",
    "\n",
    "Overall, Flask is a great choice for building web applications with Python because of its simplicity, flexibility, and ease of use."
   ]
  },
  {
   "cell_type": "code",
   "execution_count": null,
   "id": "b029e876-77d8-42f4-a917-c25ed5371b12",
   "metadata": {},
   "outputs": [],
   "source": [
    "Answer (2)"
   ]
  },
  {
   "cell_type": "code",
   "execution_count": null,
   "id": "1e843f5e-bb73-4d6c-8628-e6b0b105f988",
   "metadata": {},
   "outputs": [],
   "source": [
    "\n",
    "from flask import Flask\n",
    "\n",
    "app = Flask(__name__)\n",
    "\n",
    "@app.route(\"/\")\n",
    "def hello_world():\n",
    "    return \"<h1>Hello, World!</h1>\"\n",
    "\n",
    "if __name__==\"__main__\":\n",
    "    app.run(host=\"0.0.0.0\")\n",
    "    \n",
    "# screenshot of output   \n",
    "\n",
    "C:\\Users\\HP\\AppData\\Local\\Packages\\Microsoft.ScreenSketch_8wekyb3d8bbwe\\TempState\\Screenshot 2023-02-20 160629.png"
   ]
  },
  {
   "cell_type": "code",
   "execution_count": null,
   "id": "3b0dda27-2288-4eb4-8b36-ae3458c867ff",
   "metadata": {},
   "outputs": [],
   "source": [
    "Answer(3)"
   ]
  },
  {
   "cell_type": "code",
   "execution_count": null,
   "id": "35fe957f-a089-4c26-a133-8da2ea71f02a",
   "metadata": {},
   "outputs": [],
   "source": [
    "#In Flask, routing refers to the process of mapping URLs to view functions. Flask uses the concept of \"app routes\" to define the URLs that the application can handle.\n",
    "\n",
    "#An app route is a Flask decorator that maps a URL to a view function that will be executed when the URL is requested. The most common app route is the @app.route decorator, which is used to specify the URL that should trigger a particular view function.\n",
    "\n",
    "# An Example of an app route in Flask:\n",
    "\n",
    "from flask import Flask\n",
    "\n",
    "app = Flask(__name__)\n",
    "\n",
    "@app.route('/')\n",
    "def home():\n",
    "    return 'Hello, World!'\n",
    "\n",
    "if __name__ == '__main__':\n",
    "    app.run()"
   ]
  },
  {
   "cell_type": "code",
   "execution_count": null,
   "id": "ea0535e8-aa50-4615-8a76-02e288fe1d13",
   "metadata": {},
   "outputs": [],
   "source": [
    "Answer (4)"
   ]
  },
  {
   "cell_type": "code",
   "execution_count": null,
   "id": "07770c8b-e927-4725-800e-e52ea7b07420",
   "metadata": {},
   "outputs": [],
   "source": [
    "from flask import Flask\n",
    "\n",
    "app = Flask(__name__)\n",
    "\n",
    "@app.route('/welcome')\n",
    "def welcome():\n",
    "    return 'Welcome to ABC Corporation'\n",
    "\n",
    "@app.route('/')\n",
    "def company_info():\n",
    "    return 'Company Name: ABC Corporation <br> Location: India <br> Contact Detail: 999-999-9999'\n",
    "\n",
    "if __name__ == '__main__':\n",
    "    app.run()\n",
    "\n",
    "@app.route('/welcome')\n",
    "def welcome():\n",
    "    return 'Welcome to ABC Corporation'\n",
    "\n",
    "@app.route('/')\n",
    "def company_info():\n",
    "    return 'Company Name: ABC Corporation <br> Location: India <br> Contact Detail: 999-999-9999'\n",
    "\n",
    "if __name__ == '__main__':\n",
    "    app.run()\n"
   ]
  },
  {
   "cell_type": "code",
   "execution_count": null,
   "id": "1d14e5a4-afdc-465f-abe4-357e0fe9b93b",
   "metadata": {},
   "outputs": [],
   "source": [
    "Answer (5)\n"
   ]
  },
  {
   "cell_type": "code",
   "execution_count": null,
   "id": "caee5834-2297-447a-bce5-0b7ee287d870",
   "metadata": {},
   "outputs": [],
   "source": [
    "#In Flask, the url_for() function is used for URL building. This function generates a URL for a specific view function based on the name of the function.\n",
    "\n",
    "#Here's an example code that demonstrates the working of the url_for() function:\n",
    "\n",
    "from flask import Flask, url_for\n",
    "\n",
    "app = Flask(__name__)\n",
    "\n",
    "@app.route('/')\n",
    "def home():\n",
    "    return 'This is the home page'\n",
    "\n",
    "@app.route('/about')\n",
    "def about():\n",
    "    return 'This is the about page'\n",
    "\n",
    "@app.route('/contact')\n",
    "def contact():\n",
    "    return 'This is the contact page'\n",
    "\n",
    "@app.route('/user/<username>')\n",
    "def user_profile(username):\n",
    "    return f'This is the profile page for {username}'\n",
    "\n",
    "with app.test_request_context():\n",
    "    print(url_for('home'))\n",
    "    print(url_for('about'))\n",
    "    print(url_for('contact'))\n",
    "    print(url_for('user_profile', username='shivam'))"
   ]
  }
 ],
 "metadata": {
  "kernelspec": {
   "display_name": "Python 3 (ipykernel)",
   "language": "python",
   "name": "python3"
  },
  "language_info": {
   "codemirror_mode": {
    "name": "ipython",
    "version": 3
   },
   "file_extension": ".py",
   "mimetype": "text/x-python",
   "name": "python",
   "nbconvert_exporter": "python",
   "pygments_lexer": "ipython3",
   "version": "3.10.8"
  }
 },
 "nbformat": 4,
 "nbformat_minor": 5
}
