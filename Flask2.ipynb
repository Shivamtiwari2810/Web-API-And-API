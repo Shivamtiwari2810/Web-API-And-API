{
 "cells": [
  {
   "cell_type": "markdown",
   "id": "4d007364-e5b7-468e-a4dc-d2ab19759e83",
   "metadata": {},
   "source": [
    " * Answer No (1)\n",
    "\n",
    "\n",
    "\n",
    "   GET and POST are two commonly used HTTP request methods used to interact with web resources such as web pages and APIs.\n",
    "\n",
    "* GET Method:\n",
    "The GET method is used to retrieve data from a specified resource. In other words, it is used to request data from a server without changing the state of the resource. When you enter a URL into your browser and hit enter, a GET request is sent to the server and the server returns the requested resource. GET requests can be cached, and they remain in the browser history. They can also be bookmarked and shared.\n",
    "\n",
    "* POST Method:\n",
    "The POST method is used to submit an entity to the specified resource, often causing a change in state or side effects on the server. In other words, it is used to send data to the server to update or create a resource. For example, when you submit a form on a website, a POST request is sent to the server with the form data. Unlike GET requests, POST requests cannot be bookmarked or cached, and they do not remain in the browser history."
   ]
  },
  {
   "cell_type": "markdown",
   "id": "5f26d586-81db-40b4-8a22-1ba2bf7ea897",
   "metadata": {},
   "source": [
    "Answer (2)\n",
    "\n",
    "\n",
    "In Flask, the request object is used to access incoming request data that is submitted from a client to a Flask application. It provides an easy way to access the values submitted by the user through HTML forms or JSON data submitted via APIs.\n",
    "\n",
    "The request object is an instance of the Request class, which is part of the werkzeug library that Flask is built on top of. It provides access to information such as form data, cookies, headers, and files uploaded as part of the request. The request object can be accessed from within a view function, which is a Python function that handles a specific request URL."
   ]
  },
  {
   "cell_type": "markdown",
   "id": "c0d1c68f-d26c-41b1-98a0-9b7afcb0f24f",
   "metadata": {},
   "source": [
    "Answer (3)\n",
    "\n",
    "\n",
    "        In Flask, the redirect() function is used to redirect the user to a different URL. It is a built-in function that is part of the flask module.\n",
    "\n",
    "        The redirect() function is useful in many situations, such as:\n",
    "\n",
    "1. Redirecting the user to a different page after they have successfully submitted a form.\n",
    "2. Redirecting the user to a login page if they are not authenticated.\n",
    "3. Redirecting the user to an error page if an error occurs."
   ]
  },
  {
   "cell_type": "markdown",
   "id": "b54822c9-27e3-4555-8d20-1037c209705d",
   "metadata": {},
   "source": [
    "Answer (4)\n",
    "\n",
    "\n",
    "In Flask, templates are used to separate the presentation layer from the business logic of a web application. Templates are files that define the structure and layout of an HTML page, and can include placeholders for dynamic data. Flask uses a templating engine to render these templates and fill in the dynamic data.\n",
    "\n",
    "The most commonly used templating engine in Flask is Jinja2, which allows you to write templates using a combination of HTML and Jinja2 syntax. Jinja2 syntax is enclosed in {% %} tags for statements and {{ }} tags for expressions.\n",
    "\n",
    "To render a template in Flask, you use the render_template() function, which is a built-in function in the flask module. The render_template() function takes the name of the template file as its first argument, and any additional variables that you want to pass to the template as keyword arguments."
   ]
  },
  {
   "cell_type": "code",
   "execution_count": null,
   "id": "006ce2a4-a498-4b1b-9b25-27f326993ca1",
   "metadata": {},
   "outputs": [],
   "source": [
    "Answer (5)\n",
    "\n",
    " \n",
    "from flask import Flask, request, jsonify\n",
    "\n",
    "app = Flask(__name__)\n",
    "\n",
    "@app.route('/api/hello', methods=['GET'])\n",
    "def hello():\n",
    "    name = request.args.get('name')\n",
    "    return jsonify({'message': f'Hello, {name}!'}) \n",
    "\n",
    "if __name__ == '__main__':\n",
    "    app.run(debug=True)\n",
    "# we've created an API endpoint at /api/hello that accepts a name query parameter and returns a JSON response with a greeting message.\n",
    "\n",
    "To test this API using Postman, follow these steps:\n",
    "\n",
    " * Open Postman and create a new request.\n",
    "    Set the request method to GET.\n",
    "    Set the request URL to http://localhost:5000/api/hello.\n",
    "    Add a query parameter with the key name and a value of your choice.\n",
    "    Click the \"Send\" button to send the request.\n",
    "    The API should respond with a JSON object containing a greeting message.\n",
    "    That's it! You've just created a simple API in Flask and tested it using Postman. Of course, this is a very basic example, but you can use the same principles to build more complex APIs that handle more data and perform more advanced operations."
   ]
  },
  {
   "cell_type": "code",
   "execution_count": null,
   "id": "0ad775c8-7af9-46e7-94a8-f19d0e03c986",
   "metadata": {},
   "outputs": [],
   "source": []
  }
 ],
 "metadata": {
  "kernelspec": {
   "display_name": "Python 3 (ipykernel)",
   "language": "python",
   "name": "python3"
  },
  "language_info": {
   "codemirror_mode": {
    "name": "ipython",
    "version": 3
   },
   "file_extension": ".py",
   "mimetype": "text/x-python",
   "name": "python",
   "nbconvert_exporter": "python",
   "pygments_lexer": "ipython3",
   "version": "3.10.8"
  }
 },
 "nbformat": 4,
 "nbformat_minor": 5
}
